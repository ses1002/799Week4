{
 "cells": [
  {
   "cell_type": "code",
   "execution_count": 1,
   "id": "a5dd3015",
   "metadata": {},
   "outputs": [
    {
     "name": "stdout",
     "output_type": "stream",
     "text": [
      "Collecting ucimlrepo\n",
      "  Downloading ucimlrepo-0.0.7-py3-none-any.whl.metadata (5.5 kB)\n",
      "Requirement already satisfied: pandas>=1.0.0 in /home/codespace/.local/lib/python3.12/site-packages (from ucimlrepo) (2.2.3)\n",
      "Requirement already satisfied: certifi>=2020.12.5 in /home/codespace/.local/lib/python3.12/site-packages (from ucimlrepo) (2025.1.31)\n",
      "Requirement already satisfied: numpy>=1.26.0 in /home/codespace/.local/lib/python3.12/site-packages (from pandas>=1.0.0->ucimlrepo) (2.2.4)\n",
      "Requirement already satisfied: python-dateutil>=2.8.2 in /home/codespace/.local/lib/python3.12/site-packages (from pandas>=1.0.0->ucimlrepo) (2.9.0.post0)\n",
      "Requirement already satisfied: pytz>=2020.1 in /home/codespace/.local/lib/python3.12/site-packages (from pandas>=1.0.0->ucimlrepo) (2025.1)\n",
      "Requirement already satisfied: tzdata>=2022.7 in /home/codespace/.local/lib/python3.12/site-packages (from pandas>=1.0.0->ucimlrepo) (2025.1)\n",
      "Requirement already satisfied: six>=1.5 in /home/codespace/.local/lib/python3.12/site-packages (from python-dateutil>=2.8.2->pandas>=1.0.0->ucimlrepo) (1.17.0)\n",
      "Downloading ucimlrepo-0.0.7-py3-none-any.whl (8.0 kB)\n",
      "Installing collected packages: ucimlrepo\n",
      "Successfully installed ucimlrepo-0.0.7\n",
      "\n",
      "\u001b[1m[\u001b[0m\u001b[34;49mnotice\u001b[0m\u001b[1;39;49m]\u001b[0m\u001b[39;49m A new release of pip is available: \u001b[0m\u001b[31;49m25.0.1\u001b[0m\u001b[39;49m -> \u001b[0m\u001b[32;49m25.1.1\u001b[0m\n",
      "\u001b[1m[\u001b[0m\u001b[34;49mnotice\u001b[0m\u001b[1;39;49m]\u001b[0m\u001b[39;49m To update, run: \u001b[0m\u001b[32;49mpip install --upgrade pip\u001b[0m\n",
      "Note: you may need to restart the kernel to use updated packages.\n"
     ]
    }
   ],
   "source": [
    "pip install ucimlrepo"
   ]
  },
  {
   "cell_type": "code",
   "execution_count": 2,
   "id": "66e1740d",
   "metadata": {},
   "outputs": [
    {
     "name": "stdout",
     "output_type": "stream",
     "text": [
      "{'uci_id': 145, 'name': 'Statlog (Heart)', 'repository_url': 'https://archive.ics.uci.edu/dataset/145/statlog+heart', 'data_url': 'https://archive.ics.uci.edu/static/public/145/data.csv', 'abstract': 'This dataset is a heart disease database similar to a database already present in the repository (Heart Disease databases) but in a slightly different form', 'area': 'Health and Medicine', 'tasks': ['Classification'], 'characteristics': ['Multivariate'], 'num_instances': 270, 'num_features': 13, 'feature_types': ['Categorical', 'Real'], 'demographics': ['Age', 'Sex'], 'target_col': ['heart-disease'], 'index_col': None, 'has_missing_values': 'no', 'missing_values_symbol': None, 'year_of_dataset_creation': None, 'last_updated': 'Fri Feb 09 2024', 'dataset_doi': '10.24432/C57303', 'creators': [], 'intro_paper': None, 'additional_info': {'summary': 'Cost Matrix\\r\\n\\r\\n_______\\t abse  pres\\r\\nabsence\\t 0\\t1\\r\\npresence  5\\t0\\r\\n\\r\\nwhere the rows represent the true values and the columns the predicted.\\r\\n', 'purpose': None, 'funded_by': None, 'instances_represent': None, 'recommended_data_splits': None, 'sensitive_data': None, 'preprocessing_description': None, 'variable_info': '\\r\\nAttribute Information:\\r\\n------------------------\\r\\n      -- 1. age       \\r\\n      -- 2. sex       \\r\\n      -- 3. chest pain type  (4 values)       \\r\\n      -- 4. resting blood pressure  \\r\\n      -- 5. serum cholestoral in mg/dl      \\r\\n      -- 6. fasting blood sugar > 120 mg/dl       \\r\\n      -- 7. resting electrocardiographic results  (values 0,1,2) \\r\\n      -- 8. maximum heart rate achieved  \\r\\n      -- 9. exercise induced angina    \\r\\n      -- 10. oldpeak = ST depression induced by exercise relative to rest   \\r\\n      -- 11. the slope of the peak exercise ST segment     \\r\\n      -- 12. number of major vessels (0-3) colored by flourosopy        \\r\\n      -- 13.  thal: 3 = normal; 6 = fixed defect; 7 = reversable defect     \\r\\n\\r\\nAttributes types\\r\\n-----------------\\r\\n\\r\\nReal: 1,4,5,8,10,12\\r\\nOrdered:11,\\r\\nBinary: 2,6,9\\r\\nNominal:7,3,13\\r\\n\\r\\nVariable to be predicted\\r\\n------------------------\\r\\nAbsence (1) or presence (2) of heart disease\\r\\n', 'citation': None}}\n",
      "                    name     role         type demographic  \\\n",
      "0                    age  Feature   Continuous         Age   \n",
      "1                    sex  Feature       Binary         Sex   \n",
      "2             chest-pain  Feature  Categorical        None   \n",
      "3                rest-bp  Feature   Continuous        None   \n",
      "4             serum-chol  Feature   Continuous        None   \n",
      "5    fasting-blood-sugar  Feature       Binary        None   \n",
      "6   electrocardiographic  Feature  Categorical        None   \n",
      "7         max-heart-rate  Feature   Continuous        None   \n",
      "8                 angina  Feature       Binary        None   \n",
      "9                oldpeak  Feature   Continuous        None   \n",
      "10                 slope  Feature      Integer        None   \n",
      "11         major-vessels  Feature   Continuous        None   \n",
      "12                  thal  Feature  Categorical        None   \n",
      "13         heart-disease   Target      Integer        None   \n",
      "\n",
      "                                          description  units missing_values  \n",
      "0                                                None   None             no  \n",
      "1                                                None   None             no  \n",
      "2                                     chest pain type   None             no  \n",
      "3                              resting blood pressure   None             no  \n",
      "4                                   serum cholesterol  mg/dl             no  \n",
      "5                     fasting blood sugar > 120 mg/dl   None             no  \n",
      "6                resting electrocardiographic results   None             no  \n",
      "7                         maximum heart rate achieved   None             no  \n",
      "8                             exercise induced anigna   None             no  \n",
      "9   oldpeak = ST depression induced by exercise re...   None             no  \n",
      "10           the slope of the peak exercise ST sgment   None             no  \n",
      "11  number of major vessels (0-3) colored by fluor...   None             no  \n",
      "12  thal: 3 = normal; 6 = fixed defect; 7 = revers...   None             no  \n",
      "13                                               None   None             no  \n"
     ]
    }
   ],
   "source": [
    "from ucimlrepo import fetch_ucirepo \n",
    "  \n",
    "# fetch dataset \n",
    "statlog_heart = fetch_ucirepo(id=145) \n",
    "  \n",
    "# data (as pandas dataframes) \n",
    "X = statlog_heart.data.features \n",
    "y = statlog_heart.data.targets \n",
    "  \n",
    "# metadata \n",
    "print(statlog_heart.metadata) \n",
    "  \n",
    "# variable information \n",
    "print(statlog_heart.variables) \n"
   ]
  },
  {
   "cell_type": "markdown",
   "id": "058bbfe5",
   "metadata": {},
   "source": [
    "Feature Scaling and the preprocessing"
   ]
  },
  {
   "cell_type": "code",
   "execution_count": 3,
   "id": "789230bb",
   "metadata": {},
   "outputs": [],
   "source": [
    "import pandas as pd\n",
    "from ucimlrepo import fetch_ucirepo\n",
    "from sklearn.model_selection import train_test_split\n",
    "from sklearn.preprocessing import StandardScaler, OneHotEncoder\n",
    "from sklearn.compose import ColumnTransformer\n",
    "from sklearn.pipeline import Pipeline\n",
    "\n",
    "# Fetch dataset\n",
    "statlog_heart = fetch_ucirepo(id=145)\n",
    "X = statlog_heart.data.features\n",
    "y = statlog_heart.data.targets['heart-disease'].replace({1: 0, 2: 1})  # 0 = absence, 1 = presence\n",
    "\n",
    "# Identify columns\n",
    "numeric_features = ['age', 'rest-bp', 'serum-chol', 'max-heart-rate', 'oldpeak', 'major-vessels']\n",
    "categorical_features = ['sex', 'fasting-blood-sugar', 'angina', 'chest-pain', 'electrocardiographic', 'slope', 'thal']\n",
    "\n",
    "# Preprocessing pipeline\n",
    "preprocessor = ColumnTransformer(\n",
    "    transformers=[\n",
    "        ('num', StandardScaler(), numeric_features),\n",
    "        ('cat', OneHotEncoder(drop='first'), categorical_features)\n",
    "    ])\n"
   ]
  },
  {
   "cell_type": "markdown",
   "id": "2aaf5489",
   "metadata": {},
   "source": [
    "Logistic Regression"
   ]
  },
  {
   "cell_type": "code",
   "execution_count": 4,
   "id": "d40137f1",
   "metadata": {},
   "outputs": [
    {
     "name": "stdout",
     "output_type": "stream",
     "text": [
      "Classification Report:\n",
      "              precision    recall  f1-score   support\n",
      "\n",
      "           0       0.96      0.70      0.81        33\n",
      "           1       0.67      0.95      0.78        21\n",
      "\n",
      "    accuracy                           0.80        54\n",
      "   macro avg       0.81      0.82      0.80        54\n",
      "weighted avg       0.84      0.80      0.80        54\n",
      "\n",
      "Confusion Matrix:\n",
      "[[23 10]\n",
      " [ 1 20]]\n"
     ]
    }
   ],
   "source": [
    "from sklearn.linear_model import LogisticRegression\n",
    "from sklearn.metrics import classification_report, confusion_matrix\n",
    "\n",
    "# Full pipeline with logistic regression\n",
    "pipeline = Pipeline(steps=[\n",
    "    ('preprocessor', preprocessor),\n",
    "    ('classifier', LogisticRegression(max_iter=1000, class_weight={0: 1, 1: 5}))\n",
    "])\n",
    "\n",
    "# Split data\n",
    "X_train, X_test, y_train, y_test = train_test_split(X, y, test_size=0.2, random_state=42)\n",
    "\n",
    "# Train model\n",
    "pipeline.fit(X_train, y_train)\n",
    "\n",
    "# Predict\n",
    "y_pred = pipeline.predict(X_test)\n",
    "\n",
    "# Evaluate\n",
    "print(\"Classification Report:\")\n",
    "print(classification_report(y_test, y_pred))\n",
    "\n",
    "print(\"Confusion Matrix:\")\n",
    "print(confusion_matrix(y_test, y_pred))\n"
   ]
  },
  {
   "cell_type": "markdown",
   "id": "240f2806",
   "metadata": {},
   "source": [
    "Confusion matrix elaboration: \n",
    "True negatives (TN): 23 people without heart disease correctly predicted.\n",
    "\n",
    "False positives (FP): 10 people without heart disease incorrectly predicted as having it.\n",
    "\n",
    "False negatives (FN): 1 person with heart disease was missed — this is very important due to the cost.\n",
    "\n",
    "True positives (TP): 20 people with heart disease correctly predicted.\n",
    "\n",
    "There was only 1 false negative which is a very desirable outcome. "
   ]
  },
  {
   "cell_type": "markdown",
   "id": "9cd32997",
   "metadata": {},
   "source": [
    "The model correctly found 95% of the people who actually had heart disease.\n",
    "\n",
    "However, about 1 out of every 3 people the model said had heart disease actually didn’t (false alarms).\n",
    "\n",
    "Overall, the model was right 80% of the time, which is pretty good for a health-related prediction."
   ]
  },
  {
   "cell_type": "markdown",
   "id": "f15eec2c",
   "metadata": {},
   "source": [
    "Feature importance"
   ]
  },
  {
   "cell_type": "code",
   "execution_count": 5,
   "id": "fa05bfaa",
   "metadata": {},
   "outputs": [
    {
     "name": "stdout",
     "output_type": "stream",
     "text": [
      "Top contributing features:\n",
      "sex_1.0                    1.758673\n",
      "chest-pain_4.0             1.686979\n",
      "thal_7.0                   1.170336\n",
      "fasting-blood-sugar_1.0   -0.811079\n",
      "slope_2.0                  0.722755\n",
      "major-vessels              0.625400\n",
      "oldpeak                    0.604831\n",
      "serum-chol                 0.421465\n",
      "slope_3.0                  0.391631\n",
      "rest-bp                    0.347952\n",
      "dtype: float64\n"
     ]
    }
   ],
   "source": [
    "\n",
    "feature_names = (\n",
    "    numeric_features +\n",
    "    list(pipeline.named_steps['preprocessor'].transformers_[1][1].get_feature_names_out(categorical_features))\n",
    ")\n",
    "\n",
    "# Match features to coefficients\n",
    "coefs = pipeline.named_steps['classifier'].coef_[0]\n",
    "feature_importance = pd.Series(coefs, index=feature_names).sort_values(key=abs, ascending=False)\n",
    "\n",
    "print(\"Top contributing features:\")\n",
    "print(feature_importance.head(10))\n"
   ]
  }
 ],
 "metadata": {
  "kernelspec": {
   "display_name": "Python 3",
   "language": "python",
   "name": "python3"
  },
  "language_info": {
   "codemirror_mode": {
    "name": "ipython",
    "version": 3
   },
   "file_extension": ".py",
   "mimetype": "text/x-python",
   "name": "python",
   "nbconvert_exporter": "python",
   "pygments_lexer": "ipython3",
   "version": "3.12.1"
  }
 },
 "nbformat": 4,
 "nbformat_minor": 5
}
