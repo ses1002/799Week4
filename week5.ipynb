{
 "cells": [
  {
   "cell_type": "code",
   "execution_count": 1,
   "id": "782a12f7",
   "metadata": {},
   "outputs": [
    {
     "name": "stdout",
     "output_type": "stream",
     "text": [
      "Requirement already satisfied: ucimlrepo in /usr/local/python/3.12.1/lib/python3.12/site-packages (0.0.7)\n",
      "Requirement already satisfied: pandas>=1.0.0 in /home/codespace/.local/lib/python3.12/site-packages (from ucimlrepo) (2.2.3)\n",
      "Requirement already satisfied: certifi>=2020.12.5 in /home/codespace/.local/lib/python3.12/site-packages (from ucimlrepo) (2025.1.31)\n",
      "Requirement already satisfied: numpy>=1.26.0 in /home/codespace/.local/lib/python3.12/site-packages (from pandas>=1.0.0->ucimlrepo) (2.2.4)\n",
      "Requirement already satisfied: python-dateutil>=2.8.2 in /home/codespace/.local/lib/python3.12/site-packages (from pandas>=1.0.0->ucimlrepo) (2.9.0.post0)\n",
      "Requirement already satisfied: pytz>=2020.1 in /home/codespace/.local/lib/python3.12/site-packages (from pandas>=1.0.0->ucimlrepo) (2025.1)\n",
      "Requirement already satisfied: tzdata>=2022.7 in /home/codespace/.local/lib/python3.12/site-packages (from pandas>=1.0.0->ucimlrepo) (2025.1)\n",
      "Requirement already satisfied: six>=1.5 in /home/codespace/.local/lib/python3.12/site-packages (from python-dateutil>=2.8.2->pandas>=1.0.0->ucimlrepo) (1.17.0)\n",
      "\n",
      "\u001b[1m[\u001b[0m\u001b[34;49mnotice\u001b[0m\u001b[1;39;49m]\u001b[0m\u001b[39;49m A new release of pip is available: \u001b[0m\u001b[31;49m25.0.1\u001b[0m\u001b[39;49m -> \u001b[0m\u001b[32;49m25.1.1\u001b[0m\n",
      "\u001b[1m[\u001b[0m\u001b[34;49mnotice\u001b[0m\u001b[1;39;49m]\u001b[0m\u001b[39;49m To update, run: \u001b[0m\u001b[32;49mpython -m pip install --upgrade pip\u001b[0m\n",
      "Note: you may need to restart the kernel to use updated packages.\n"
     ]
    }
   ],
   "source": [
    "pip install ucimlrepo"
   ]
  },
  {
   "cell_type": "code",
   "execution_count": 3,
   "id": "4b434dd0",
   "metadata": {},
   "outputs": [
    {
     "name": "stdout",
     "output_type": "stream",
     "text": [
      "{'uci_id': 145, 'name': 'Statlog (Heart)', 'repository_url': 'https://archive.ics.uci.edu/dataset/145/statlog+heart', 'data_url': 'https://archive.ics.uci.edu/static/public/145/data.csv', 'abstract': 'This dataset is a heart disease database similar to a database already present in the repository (Heart Disease databases) but in a slightly different form', 'area': 'Health and Medicine', 'tasks': ['Classification'], 'characteristics': ['Multivariate'], 'num_instances': 270, 'num_features': 13, 'feature_types': ['Categorical', 'Real'], 'demographics': ['Age', 'Sex'], 'target_col': ['heart-disease'], 'index_col': None, 'has_missing_values': 'no', 'missing_values_symbol': None, 'year_of_dataset_creation': None, 'last_updated': 'Fri Feb 09 2024', 'dataset_doi': '10.24432/C57303', 'creators': [], 'intro_paper': None, 'additional_info': {'summary': 'Cost Matrix\\r\\n\\r\\n_______\\t abse  pres\\r\\nabsence\\t 0\\t1\\r\\npresence  5\\t0\\r\\n\\r\\nwhere the rows represent the true values and the columns the predicted.\\r\\n', 'purpose': None, 'funded_by': None, 'instances_represent': None, 'recommended_data_splits': None, 'sensitive_data': None, 'preprocessing_description': None, 'variable_info': '\\r\\nAttribute Information:\\r\\n------------------------\\r\\n      -- 1. age       \\r\\n      -- 2. sex       \\r\\n      -- 3. chest pain type  (4 values)       \\r\\n      -- 4. resting blood pressure  \\r\\n      -- 5. serum cholestoral in mg/dl      \\r\\n      -- 6. fasting blood sugar > 120 mg/dl       \\r\\n      -- 7. resting electrocardiographic results  (values 0,1,2) \\r\\n      -- 8. maximum heart rate achieved  \\r\\n      -- 9. exercise induced angina    \\r\\n      -- 10. oldpeak = ST depression induced by exercise relative to rest   \\r\\n      -- 11. the slope of the peak exercise ST segment     \\r\\n      -- 12. number of major vessels (0-3) colored by flourosopy        \\r\\n      -- 13.  thal: 3 = normal; 6 = fixed defect; 7 = reversable defect     \\r\\n\\r\\nAttributes types\\r\\n-----------------\\r\\n\\r\\nReal: 1,4,5,8,10,12\\r\\nOrdered:11,\\r\\nBinary: 2,6,9\\r\\nNominal:7,3,13\\r\\n\\r\\nVariable to be predicted\\r\\n------------------------\\r\\nAbsence (1) or presence (2) of heart disease\\r\\n', 'citation': None}}\n",
      "                    name     role         type demographic  \\\n",
      "0                    age  Feature   Continuous         Age   \n",
      "1                    sex  Feature       Binary         Sex   \n",
      "2             chest-pain  Feature  Categorical        None   \n",
      "3                rest-bp  Feature   Continuous        None   \n",
      "4             serum-chol  Feature   Continuous        None   \n",
      "5    fasting-blood-sugar  Feature       Binary        None   \n",
      "6   electrocardiographic  Feature  Categorical        None   \n",
      "7         max-heart-rate  Feature   Continuous        None   \n",
      "8                 angina  Feature       Binary        None   \n",
      "9                oldpeak  Feature   Continuous        None   \n",
      "10                 slope  Feature      Integer        None   \n",
      "11         major-vessels  Feature   Continuous        None   \n",
      "12                  thal  Feature  Categorical        None   \n",
      "13         heart-disease   Target      Integer        None   \n",
      "\n",
      "                                          description  units missing_values  \n",
      "0                                                None   None             no  \n",
      "1                                                None   None             no  \n",
      "2                                     chest pain type   None             no  \n",
      "3                              resting blood pressure   None             no  \n",
      "4                                   serum cholesterol  mg/dl             no  \n",
      "5                     fasting blood sugar > 120 mg/dl   None             no  \n",
      "6                resting electrocardiographic results   None             no  \n",
      "7                         maximum heart rate achieved   None             no  \n",
      "8                             exercise induced anigna   None             no  \n",
      "9   oldpeak = ST depression induced by exercise re...   None             no  \n",
      "10           the slope of the peak exercise ST sgment   None             no  \n",
      "11  number of major vessels (0-3) colored by fluor...   None             no  \n",
      "12  thal: 3 = normal; 6 = fixed defect; 7 = revers...   None             no  \n",
      "13                                               None   None             no  \n"
     ]
    }
   ],
   "source": [
    "from ucimlrepo import fetch_ucirepo \n",
    "  \n",
    "# fetch dataset \n",
    "statlog_heart = fetch_ucirepo(id=145) \n",
    "  \n",
    "# data (as pandas dataframes) \n",
    "X = statlog_heart.data.features \n",
    "y = statlog_heart.data.targets \n",
    "  \n",
    "# metadata \n",
    "print(statlog_heart.metadata) \n",
    "  \n",
    "# variable information \n",
    "print(statlog_heart.variables) \n"
   ]
  },
  {
   "cell_type": "code",
   "execution_count": 4,
   "id": "938cb824",
   "metadata": {},
   "outputs": [],
   "source": [
    "import pandas as pd\n",
    "from sklearn.model_selection import train_test_split\n",
    "from sklearn.preprocessing import StandardScaler\n",
    "\n",
    "# Split the data\n",
    "X_train, X_test, y_train, y_test = train_test_split(\n",
    "    X, y, test_size=0.2, random_state=42)\n",
    "\n",
    "# Scale numeric features\n",
    "scaler = StandardScaler()\n",
    "X_train_scaled = scaler.fit_transform(X_train)\n",
    "X_test_scaled = scaler.transform(X_test)\n"
   ]
  },
  {
   "cell_type": "code",
   "execution_count": 5,
   "id": "be3adb6f",
   "metadata": {},
   "outputs": [
    {
     "name": "stdout",
     "output_type": "stream",
     "text": [
      "SVM Linear Kernel Classification Report:\n",
      "              precision    recall  f1-score   support\n",
      "\n",
      "           1       0.89      0.94      0.91        33\n",
      "           2       0.89      0.81      0.85        21\n",
      "\n",
      "    accuracy                           0.89        54\n",
      "   macro avg       0.89      0.87      0.88        54\n",
      "weighted avg       0.89      0.89      0.89        54\n",
      "\n",
      "Confusion Matrix:\n",
      "[[31  2]\n",
      " [ 4 17]]\n"
     ]
    },
    {
     "name": "stderr",
     "output_type": "stream",
     "text": [
      "/home/codespace/.local/lib/python3.12/site-packages/sklearn/utils/validation.py:1408: DataConversionWarning: A column-vector y was passed when a 1d array was expected. Please change the shape of y to (n_samples, ), for example using ravel().\n",
      "  y = column_or_1d(y, warn=True)\n"
     ]
    }
   ],
   "source": [
    "from sklearn.svm import SVC\n",
    "from sklearn.metrics import classification_report, confusion_matrix\n",
    "\n",
    "# Linear kernel\n",
    "svm_linear = SVC(kernel='linear', C=1.0, probability=True)\n",
    "svm_linear.fit(X_train_scaled, y_train)\n",
    "\n",
    "y_pred_linear = svm_linear.predict(X_test_scaled)\n",
    "\n",
    "print(\"SVM Linear Kernel Classification Report:\")\n",
    "print(classification_report(y_test, y_pred_linear))\n",
    "print(\"Confusion Matrix:\")\n",
    "print(confusion_matrix(y_test, y_pred_linear))\n"
   ]
  },
  {
   "cell_type": "code",
   "execution_count": 6,
   "id": "a30175d1",
   "metadata": {},
   "outputs": [
    {
     "name": "stdout",
     "output_type": "stream",
     "text": [
      "SVM RBF Kernel Classification Report:\n",
      "              precision    recall  f1-score   support\n",
      "\n",
      "           1       0.89      0.94      0.91        33\n",
      "           2       0.89      0.81      0.85        21\n",
      "\n",
      "    accuracy                           0.89        54\n",
      "   macro avg       0.89      0.87      0.88        54\n",
      "weighted avg       0.89      0.89      0.89        54\n",
      "\n",
      "SVM Polynomial Kernel Classification Report:\n",
      "              precision    recall  f1-score   support\n",
      "\n",
      "           1       0.88      0.88      0.88        33\n",
      "           2       0.81      0.81      0.81        21\n",
      "\n",
      "    accuracy                           0.85        54\n",
      "   macro avg       0.84      0.84      0.84        54\n",
      "weighted avg       0.85      0.85      0.85        54\n",
      "\n"
     ]
    },
    {
     "name": "stderr",
     "output_type": "stream",
     "text": [
      "/home/codespace/.local/lib/python3.12/site-packages/sklearn/utils/validation.py:1408: DataConversionWarning: A column-vector y was passed when a 1d array was expected. Please change the shape of y to (n_samples, ), for example using ravel().\n",
      "  y = column_or_1d(y, warn=True)\n",
      "/home/codespace/.local/lib/python3.12/site-packages/sklearn/utils/validation.py:1408: DataConversionWarning: A column-vector y was passed when a 1d array was expected. Please change the shape of y to (n_samples, ), for example using ravel().\n",
      "  y = column_or_1d(y, warn=True)\n"
     ]
    }
   ],
   "source": [
    "# Radial Basis Function (RBF) kernel\n",
    "svm_rbf = SVC(kernel='rbf', C=1.0, gamma='scale', probability=True)\n",
    "svm_rbf.fit(X_train_scaled, y_train)\n",
    "\n",
    "y_pred_rbf = svm_rbf.predict(X_test_scaled)\n",
    "\n",
    "print(\"SVM RBF Kernel Classification Report:\")\n",
    "print(classification_report(y_test, y_pred_rbf))\n",
    "\n",
    "# Polynomial kernel\n",
    "svm_poly = SVC(kernel='poly', degree=3, C=1.0, probability=True)\n",
    "svm_poly.fit(X_train_scaled, y_train)\n",
    "\n",
    "y_pred_poly = svm_poly.predict(X_test_scaled)\n",
    "\n",
    "print(\"SVM Polynomial Kernel Classification Report:\")\n",
    "print(classification_report(y_test, y_pred_poly))\n"
   ]
  },
  {
   "cell_type": "code",
   "execution_count": 7,
   "id": "5b454761",
   "metadata": {},
   "outputs": [
    {
     "name": "stdout",
     "output_type": "stream",
     "text": [
      "RBF Kernel with Low C Classification Report:\n",
      "              precision    recall  f1-score   support\n",
      "\n",
      "           1       0.61      1.00      0.76        33\n",
      "           2       0.00      0.00      0.00        21\n",
      "\n",
      "    accuracy                           0.61        54\n",
      "   macro avg       0.31      0.50      0.38        54\n",
      "weighted avg       0.37      0.61      0.46        54\n",
      "\n",
      "RBF Kernel with High C Classification Report:\n",
      "              precision    recall  f1-score   support\n",
      "\n",
      "           1       0.76      0.76      0.76        33\n",
      "           2       0.62      0.62      0.62        21\n",
      "\n",
      "    accuracy                           0.70        54\n",
      "   macro avg       0.69      0.69      0.69        54\n",
      "weighted avg       0.70      0.70      0.70        54\n",
      "\n"
     ]
    },
    {
     "name": "stderr",
     "output_type": "stream",
     "text": [
      "/home/codespace/.local/lib/python3.12/site-packages/sklearn/utils/validation.py:1408: DataConversionWarning: A column-vector y was passed when a 1d array was expected. Please change the shape of y to (n_samples, ), for example using ravel().\n",
      "  y = column_or_1d(y, warn=True)\n",
      "/home/codespace/.local/lib/python3.12/site-packages/sklearn/metrics/_classification.py:1565: UndefinedMetricWarning: Precision is ill-defined and being set to 0.0 in labels with no predicted samples. Use `zero_division` parameter to control this behavior.\n",
      "  _warn_prf(average, modifier, f\"{metric.capitalize()} is\", len(result))\n",
      "/home/codespace/.local/lib/python3.12/site-packages/sklearn/metrics/_classification.py:1565: UndefinedMetricWarning: Precision is ill-defined and being set to 0.0 in labels with no predicted samples. Use `zero_division` parameter to control this behavior.\n",
      "  _warn_prf(average, modifier, f\"{metric.capitalize()} is\", len(result))\n",
      "/home/codespace/.local/lib/python3.12/site-packages/sklearn/metrics/_classification.py:1565: UndefinedMetricWarning: Precision is ill-defined and being set to 0.0 in labels with no predicted samples. Use `zero_division` parameter to control this behavior.\n",
      "  _warn_prf(average, modifier, f\"{metric.capitalize()} is\", len(result))\n",
      "/home/codespace/.local/lib/python3.12/site-packages/sklearn/utils/validation.py:1408: DataConversionWarning: A column-vector y was passed when a 1d array was expected. Please change the shape of y to (n_samples, ), for example using ravel().\n",
      "  y = column_or_1d(y, warn=True)\n"
     ]
    }
   ],
   "source": [
    "svm_rbf_lowC = SVC(kernel='rbf', C=0.01, probability=True)\n",
    "svm_rbf_lowC.fit(X_train_scaled, y_train)\n",
    "print(\"RBF Kernel with Low C Classification Report:\")\n",
    "print(classification_report(y_test, svm_rbf_lowC.predict(X_test_scaled)))\n",
    "\n",
    "svm_rbf_highC = SVC(kernel='rbf', C=100, probability=True)\n",
    "svm_rbf_highC.fit(X_train_scaled, y_train)\n",
    "print(\"RBF Kernel with High C Classification Report:\")\n",
    "print(classification_report(y_test, svm_rbf_highC.predict(X_test_scaled)))\n"
   ]
  },
  {
   "cell_type": "code",
   "execution_count": 8,
   "id": "7735d842",
   "metadata": {},
   "outputs": [
    {
     "data": {
      "image/png": "[encoded data removed]",
      "text/plain": [
       "<Figure size 640x480 with 2 Axes>"
      ]
     },
     "metadata": {},
     "output_type": "display_data"
    }
   ],
   "source": [
    "import seaborn as sns\n",
    "import matplotlib.pyplot as plt\n",
    "from sklearn.metrics import confusion_matrix\n",
    "\n",
    "cm = confusion_matrix(y_test, y_pred_rbf)\n",
    "sns.heatmap(cm, annot=True, fmt='d', cmap='Blues',\n",
    "            xticklabels=['No Disease', 'Disease'],\n",
    "            yticklabels=['No Disease', 'Disease'])\n",
    "plt.xlabel('Predicted')\n",
    "plt.ylabel('Actual')\n",
    "plt.title('SVM (RBF) Confusion Matrix')\n",
    "plt.show()\n"
   ]
  }
 ],
 "metadata": {
  "kernelspec": {
   "display_name": "Python 3",
   "language": "python",
   "name": "python3"
  },
  "language_info": {
   "codemirror_mode": {
    "name": "ipython",
    "version": 3
   },
   "file_extension": ".py",
   "mimetype": "text/x-python",
   "name": "python",
   "nbconvert_exporter": "python",
   "pygments_lexer": "ipython3",
   "version": "3.12.1"
  }
 },
 "nbformat": 4,
 "nbformat_minor": 5
}
